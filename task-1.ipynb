{
 "cells": [
  {
   "cell_type": "code",
   "execution_count": 1,
   "id": "5b4d2ea9-f1ac-40de-9d52-411eae6020b8",
   "metadata": {},
   "outputs": [
    {
     "name": "stdout",
     "output_type": "stream",
     "text": [
      "updated list: [0, 8, 9, 10, 2]\n"
     ]
    }
   ],
   "source": [
    "#creating a list\n",
    "my_list = [6,7,8,9,10]\n",
    "\n",
    "#adding an element to the list\n",
    "my_list.append(2)\n",
    "\n",
    "#removing an element from the list\n",
    "my_list.remove(7)\n",
    "\n",
    "#modifying an element in the list\n",
    "my_list[0]=0\n",
    "\n",
    "print(\"updated list:\", my_list)"
   ]
  },
  {
   "cell_type": "code",
   "execution_count": 3,
   "id": "69beb95a-d9fa-4093-ad58-b1e7f981991e",
   "metadata": {},
   "outputs": [
    {
     "name": "stdout",
     "output_type": "stream",
     "text": [
      "updated dictionary: {'name': 'Mani', 'city': 'vizag', 'gender': 'Male'}\n"
     ]
    }
   ],
   "source": [
    "#creating dictionary\n",
    "my_dict = {'name': 'Mani', 'age': 19, 'city': 'mumbai'}\n",
    "\n",
    "#adding\n",
    "my_dict['gender'] = 'Male'\n",
    "\n",
    "#removing\n",
    "del my_dict['age']\n",
    "\n",
    "#modifying\n",
    "my_dict['city'] = 'vizag'\n",
    "\n",
    "print(\"updated dictionary:\" , my_dict)"
   ]
  },
  {
   "cell_type": "code",
   "execution_count": 5,
   "id": "8bab46bf-7b8b-4f8f-a43d-f5d6f6745b89",
   "metadata": {},
   "outputs": [
    {
     "name": "stdout",
     "output_type": "stream",
     "text": [
      "updated set: {96, 1, 3, 5, 99}\n"
     ]
    }
   ],
   "source": [
    "#creating set\n",
    "my_set = {1,2,3,4,5}\n",
    "\n",
    "#adding\n",
    "my_set.add(99)\n",
    "\n",
    "#removing\n",
    "my_set.remove(4)\n",
    "\n",
    "#modifying\n",
    "my_set.discard(2)\n",
    "my_set.add(96)\n",
    "\n",
    "print(\"updated set:\", my_set)"
   ]
  },
  {
   "cell_type": "code",
   "execution_count": null,
   "id": "6bda6824-eeeb-487e-9ac6-b58bcbd3f49f",
   "metadata": {},
   "outputs": [],
   "source": []
  }
 ],
 "metadata": {
  "kernelspec": {
   "display_name": "Python 3 (ipykernel)",
   "language": "python",
   "name": "python3"
  },
  "language_info": {
   "codemirror_mode": {
    "name": "ipython",
    "version": 3
   },
   "file_extension": ".py",
   "mimetype": "text/x-python",
   "name": "python",
   "nbconvert_exporter": "python",
   "pygments_lexer": "ipython3",
   "version": "3.11.7"
  }
 },
 "nbformat": 4,
 "nbformat_minor": 5
}
